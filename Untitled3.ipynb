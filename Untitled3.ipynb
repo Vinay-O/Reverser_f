{
 "cells": [
  {
   "cell_type": "code",
   "execution_count": 1,
   "id": "441d3156",
   "metadata": {},
   "outputs": [
    {
     "name": "stdout",
     "output_type": "stream",
     "text": [
      "Enter the string: 1234abcd\n",
      "The reverse string is dcba4321\n"
     ]
    }
   ],
   "source": [
    "string = input('Enter the string: ')\n",
    "\n",
    "reverse = ''\n",
    "for i in range(len(string), 0, -1):\n",
    "   reverse += string[i-1]\n",
    "\n",
    "print('The reverse string is', reverse)"
   ]
  },
  {
   "cell_type": "code",
   "execution_count": null,
   "id": "7854bb1d",
   "metadata": {},
   "outputs": [],
   "source": []
  }
 ],
 "metadata": {
  "kernelspec": {
   "display_name": "Python 3 (ipykernel)",
   "language": "python",
   "name": "python3"
  },
  "language_info": {
   "codemirror_mode": {
    "name": "ipython",
    "version": 3
   },
   "file_extension": ".py",
   "mimetype": "text/x-python",
   "name": "python",
   "nbconvert_exporter": "python",
   "pygments_lexer": "ipython3",
   "version": "3.10.9"
  }
 },
 "nbformat": 4,
 "nbformat_minor": 5
}
